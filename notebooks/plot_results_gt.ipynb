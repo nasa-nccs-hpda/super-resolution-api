{
 "cells": [
  {
   "cell_type": "code",
   "execution_count": 1,
   "id": "eb3354fa294bfe51",
   "metadata": {
    "tags": []
   },
   "outputs": [],
   "source": [
    "%matplotlib widget\n",
    "from typing import Any, Dict, List, Tuple, Type, Optional, Union\n",
    "from fmod.controller.workflow import WorkflowController\n",
    "from fmod.base.io.loader import ncFormat, TSet"
   ]
  },
  {
   "cell_type": "code",
   "execution_count": 2,
   "id": "e0fe5ee8cdf65d78",
   "metadata": {
    "jupyter": {
     "is_executing": true
    }
   },
   "outputs": [
    {
     "name": "stdout",
     "output_type": "stream",
     "text": [
      "load sres: config = {'task': 'swot-2.2v', 'dataset': 'swot_gt', 'platform': 'explore_gt', 'model': 'rcan-10-20-64', 'pipeline.gpu': 1}\n",
      "Activating sres: '/panfs/ccds02/nobackup/people/gtamkin/dev/super-resolution-sst/tm/FMod/notebooks/gt/config/sres.yaml', gpu=1, keys = ['platform', 'task', 'model', 'dataset', 'pipeline']\n",
      "torch.cuda.is_available(?): False\n",
      "<device>:<index>:<device.index> cpu:1:None\n",
      "<device>:<index>:<device.index> cpu:1:None\n"
     ]
    }
   ],
   "source": [
    "cname = \"sres\"\n",
    "model =  'rcan-10-20-64'\n",
    "ccustom: Dict[str,Any] = { 'pipeline.gpu': 1 }\n",
    "\n",
    "configuration = dict(\n",
    "\ttask = \"swot-2.2v\",\n",
    "\tdataset = \"swot_gt\",\n",
    "\tplatform = \"explore_gt\"\n",
    ")\n",
    "\n",
    "controller = WorkflowController( cname, configuration )\n",
    "controller.init_plotting( cname, model, **ccustom )"
   ]
  },
  {
   "cell_type": "code",
   "execution_count": 3,
   "id": "a2d9b37022f7162",
   "metadata": {},
   "outputs": [
    {
     "name": "stdout",
     "output_type": "stream",
     "text": [
      "No checkpoint file found at '/explore/nobackup/people/gtamkin/dev/super-resolution-sst/ilab/data/SR/results/checkpoints/sres-rcan-10-20-64-swot_gt-swot-2.2v.valid.pt': starting from scratch.\n",
      " ------ Saving checkpoints to '/explore/nobackup/people/gtamkin/dev/super-resolution-sst/ilab/data/SR/results/checkpoints/sres-rcan-10-20-64-swot_gt-swot-2.2v.valid.pt' ------ \n",
      "\n",
      "  --------- Opening log file:  '/explore/nobackup/people/gtamkin/dev/super-resolution-sst/ilab/data/SR/cache/logs/rcan-swot_gt-swot-2.2v.log' ---------  \n",
      "\n",
      "init_data_timestamps: 0 times\n",
      "Batch times[train]: 0\n",
      "Batch times[valid]: 0\n",
      "Batch times[test]: 0\n"
     ]
    },
    {
     "name": "stderr",
     "output_type": "stream",
     "text": [
      "/panfs/ccds02/nobackup/people/gtamkin/dev/super-resolution-sst/tm/FMod/notebooks/gt/fmod/controller/dual_trainer.py:393: RuntimeWarning: Mean of empty slice.\n",
      "  model_loss: float = np.array(batch_model_losses).mean()\n",
      "/home/gtamkin/.local/lib/python3.11/site-packages/numpy/core/_methods.py:192: RuntimeWarning: invalid value encountered in scalar divide\n",
      "  ret = ret.dtype.type(ret / rcount)\n",
      "/panfs/ccds02/nobackup/people/gtamkin/dev/super-resolution-sst/tm/FMod/notebooks/gt/fmod/controller/dual_trainer.py:402: RuntimeWarning: Mean of empty slice.\n",
      "  result = dict( model=model_loss, interp=np.array(batch_interp_losses).mean() )\n"
     ]
    },
    {
     "ename": "AttributeError",
     "evalue": "'NoneType' object has no attribute 'sizes'",
     "output_type": "error",
     "traceback": [
      "\u001b[0;31m---------------------------------------------------------------------------\u001b[0m",
      "\u001b[0;31mAttributeError\u001b[0m                            Traceback (most recent call last)",
      "Cell \u001b[0;32mIn[3], line 1\u001b[0m\n\u001b[0;32m----> 1\u001b[0m \u001b[43mcontroller\u001b[49m\u001b[38;5;241;43m.\u001b[39;49m\u001b[43mget_result_view\u001b[49m\u001b[43m(\u001b[49m\u001b[43m \u001b[49m\u001b[43mTSet\u001b[49m\u001b[38;5;241;43m.\u001b[39;49m\u001b[43mValidation\u001b[49m\u001b[43m,\u001b[49m\u001b[43m \u001b[49m\u001b[43mfsize\u001b[49m\u001b[38;5;241;43m=\u001b[39;49m\u001b[38;5;241;43m8.0\u001b[39;49m\u001b[43m \u001b[49m\u001b[43m)\u001b[49m\n",
      "File \u001b[0;32m/panfs/ccds02/nobackup/people/gtamkin/dev/super-resolution-sst/tm/FMod/notebooks/gt/fmod/controller/workflow.py:44\u001b[0m, in \u001b[0;36mWorkflowController.get_result_view\u001b[0;34m(self, tset, **kwargs)\u001b[0m\n\u001b[1;32m     43\u001b[0m \u001b[38;5;28;01mdef\u001b[39;00m \u001b[38;5;21mget_result_view\u001b[39m(\u001b[38;5;28mself\u001b[39m, tset: TSet, \u001b[38;5;241m*\u001b[39m\u001b[38;5;241m*\u001b[39mkwargs ):\n\u001b[0;32m---> 44\u001b[0m \t\u001b[38;5;28mself\u001b[39m\u001b[38;5;241m.\u001b[39mplot \u001b[38;5;241m=\u001b[39m \u001b[43mResultPlot\u001b[49m\u001b[43m(\u001b[49m\u001b[43m \u001b[49m\u001b[38;5;28;43mself\u001b[39;49m\u001b[38;5;241;43m.\u001b[39;49m\u001b[43mtrainer\u001b[49m\u001b[43m,\u001b[49m\u001b[43m \u001b[49m\u001b[43mtset\u001b[49m\u001b[43m,\u001b[49m\u001b[43m \u001b[49m\u001b[38;5;241;43m*\u001b[39;49m\u001b[38;5;241;43m*\u001b[39;49m\u001b[43mkwargs\u001b[49m\u001b[43m)\u001b[49m\n\u001b[1;32m     45\u001b[0m \t\u001b[38;5;28;01mreturn\u001b[39;00m \u001b[38;5;28mself\u001b[39m\u001b[38;5;241m.\u001b[39mplot\u001b[38;5;241m.\u001b[39mplot()\n",
      "File \u001b[0;32m/panfs/ccds02/nobackup/people/gtamkin/dev/super-resolution-sst/tm/FMod/notebooks/gt/fmod/view/plot/results.py:60\u001b[0m, in \u001b[0;36mResultPlot.__init__\u001b[0;34m(self, trainer, tset, **kwargs)\u001b[0m\n\u001b[1;32m     58\u001b[0m \u001b[38;5;28;01massert\u001b[39;00m \u001b[38;5;28mlen\u001b[39m(\u001b[38;5;28mself\u001b[39m\u001b[38;5;241m.\u001b[39mlosses) \u001b[38;5;241m>\u001b[39m \u001b[38;5;241m0\u001b[39m, \u001b[38;5;124m\"\u001b[39m\u001b[38;5;124mAborting ResultPlot: Failed evaluation\u001b[39m\u001b[38;5;124m\"\u001b[39m\n\u001b[1;32m     59\u001b[0m \u001b[38;5;28mself\u001b[39m\u001b[38;5;241m.\u001b[39mtile_grid: TileSelectionGrid \u001b[38;5;241m=\u001b[39m TileSelectionGrid(trainer\u001b[38;5;241m.\u001b[39mget_sample_target())\n\u001b[0;32m---> 60\u001b[0m \u001b[38;5;28;43mself\u001b[39;49m\u001b[38;5;241;43m.\u001b[39;49m\u001b[43mtile_grid\u001b[49m\u001b[38;5;241;43m.\u001b[39;49m\u001b[43mcreate_tile_recs\u001b[49m\u001b[43m(\u001b[49m\u001b[38;5;241;43m*\u001b[39;49m\u001b[38;5;241;43m*\u001b[39;49m\u001b[43mkwargs\u001b[49m\u001b[43m)\u001b[49m\n\u001b[1;32m     61\u001b[0m \u001b[38;5;28mself\u001b[39m\u001b[38;5;241m.\u001b[39mtileId: \u001b[38;5;28mint\u001b[39m \u001b[38;5;241m=\u001b[39m kwargs\u001b[38;5;241m.\u001b[39mget( \u001b[38;5;124m'\u001b[39m\u001b[38;5;124mtile_id\u001b[39m\u001b[38;5;124m'\u001b[39m, \u001b[38;5;241m0\u001b[39m )\n\u001b[1;32m     62\u001b[0m \u001b[38;5;28mself\u001b[39m\u001b[38;5;241m.\u001b[39mchannel: \u001b[38;5;28mstr\u001b[39m \u001b[38;5;241m=\u001b[39m kwargs\u001b[38;5;241m.\u001b[39mget( \u001b[38;5;124m'\u001b[39m\u001b[38;5;124mchannel\u001b[39m\u001b[38;5;124m'\u001b[39m, trainer\u001b[38;5;241m.\u001b[39mtarget_variables[\u001b[38;5;241m0\u001b[39m] )\n",
      "File \u001b[0;32m/panfs/ccds02/nobackup/people/gtamkin/dev/super-resolution-sst/tm/FMod/notebooks/gt/fmod/view/tile_selection_grid.py:57\u001b[0m, in \u001b[0;36mTileSelectionGrid.create_tile_recs\u001b[0;34m(self, **kwargs)\u001b[0m\n\u001b[1;32m     55\u001b[0m \u001b[38;5;28;01mif\u001b[39;00m (\u001b[38;5;28mself\u001b[39m\u001b[38;5;241m.\u001b[39mtiles \u001b[38;5;129;01mis\u001b[39;00m \u001b[38;5;28;01mNone\u001b[39;00m) \u001b[38;5;129;01mor\u001b[39;00m refresh:\n\u001b[1;32m     56\u001b[0m \t\u001b[38;5;28mself\u001b[39m\u001b[38;5;241m.\u001b[39mtiles \u001b[38;5;241m=\u001b[39m {}\n\u001b[0;32m---> 57\u001b[0m \tishape: Dict[\u001b[38;5;28mstr\u001b[39m, \u001b[38;5;28mint\u001b[39m]  \u001b[38;5;241m=\u001b[39m \u001b[43m{\u001b[49m\u001b[43m \u001b[49m\u001b[43mcn\u001b[49m\u001b[43m:\u001b[49m\u001b[43m \u001b[49m\u001b[38;5;28;43mself\u001b[39;49m\u001b[38;5;241;43m.\u001b[39;49m\u001b[43msample_data\u001b[49m\u001b[38;5;241;43m.\u001b[39;49m\u001b[43msizes\u001b[49m\u001b[43m[\u001b[49m\u001b[43mcn\u001b[49m\u001b[43m]\u001b[49m\u001b[43m \u001b[49m\u001b[38;5;28;43;01mfor\u001b[39;49;00m\u001b[43m \u001b[49m\u001b[43mcn\u001b[49m\u001b[43m \u001b[49m\u001b[38;5;129;43;01min\u001b[39;49;00m\u001b[43m \u001b[49m\u001b[43m[\u001b[49m\u001b[38;5;124;43m'\u001b[39;49m\u001b[38;5;124;43mx\u001b[39;49m\u001b[38;5;124;43m'\u001b[39;49m\u001b[43m,\u001b[49m\u001b[38;5;124;43m'\u001b[39;49m\u001b[38;5;124;43my\u001b[39;49m\u001b[38;5;124;43m'\u001b[39;49m\u001b[43m]\u001b[49m\u001b[43m \u001b[49m\u001b[43m}\u001b[49m\n\u001b[1;32m     58\u001b[0m \ttile_locs: Dict[Tuple[\u001b[38;5;28mint\u001b[39m, \u001b[38;5;28mint\u001b[39m], Dict[\u001b[38;5;28mstr\u001b[39m, \u001b[38;5;28mint\u001b[39m]] \u001b[38;5;241m=\u001b[39m \u001b[38;5;28mself\u001b[39m\u001b[38;5;241m.\u001b[39mtile_grid\u001b[38;5;241m.\u001b[39mget_tile_locations( image_shape\u001b[38;5;241m=\u001b[39mishape, highres\u001b[38;5;241m=\u001b[39mhighres )\n\u001b[1;32m     59\u001b[0m \t\u001b[38;5;28;01mfor\u001b[39;00m xyi, tloc \u001b[38;5;129;01min\u001b[39;00m tile_locs\u001b[38;5;241m.\u001b[39mitems():\n",
      "File \u001b[0;32m/panfs/ccds02/nobackup/people/gtamkin/dev/super-resolution-sst/tm/FMod/notebooks/gt/fmod/view/tile_selection_grid.py:57\u001b[0m, in \u001b[0;36m<dictcomp>\u001b[0;34m(.0)\u001b[0m\n\u001b[1;32m     55\u001b[0m \u001b[38;5;28;01mif\u001b[39;00m (\u001b[38;5;28mself\u001b[39m\u001b[38;5;241m.\u001b[39mtiles \u001b[38;5;129;01mis\u001b[39;00m \u001b[38;5;28;01mNone\u001b[39;00m) \u001b[38;5;129;01mor\u001b[39;00m refresh:\n\u001b[1;32m     56\u001b[0m \t\u001b[38;5;28mself\u001b[39m\u001b[38;5;241m.\u001b[39mtiles \u001b[38;5;241m=\u001b[39m {}\n\u001b[0;32m---> 57\u001b[0m \tishape: Dict[\u001b[38;5;28mstr\u001b[39m, \u001b[38;5;28mint\u001b[39m]  \u001b[38;5;241m=\u001b[39m { cn: \u001b[38;5;28;43mself\u001b[39;49m\u001b[38;5;241;43m.\u001b[39;49m\u001b[43msample_data\u001b[49m\u001b[38;5;241;43m.\u001b[39;49m\u001b[43msizes\u001b[49m[cn] \u001b[38;5;28;01mfor\u001b[39;00m cn \u001b[38;5;129;01min\u001b[39;00m [\u001b[38;5;124m'\u001b[39m\u001b[38;5;124mx\u001b[39m\u001b[38;5;124m'\u001b[39m,\u001b[38;5;124m'\u001b[39m\u001b[38;5;124my\u001b[39m\u001b[38;5;124m'\u001b[39m] }\n\u001b[1;32m     58\u001b[0m \ttile_locs: Dict[Tuple[\u001b[38;5;28mint\u001b[39m, \u001b[38;5;28mint\u001b[39m], Dict[\u001b[38;5;28mstr\u001b[39m, \u001b[38;5;28mint\u001b[39m]] \u001b[38;5;241m=\u001b[39m \u001b[38;5;28mself\u001b[39m\u001b[38;5;241m.\u001b[39mtile_grid\u001b[38;5;241m.\u001b[39mget_tile_locations( image_shape\u001b[38;5;241m=\u001b[39mishape, highres\u001b[38;5;241m=\u001b[39mhighres )\n\u001b[1;32m     59\u001b[0m \t\u001b[38;5;28;01mfor\u001b[39;00m xyi, tloc \u001b[38;5;129;01min\u001b[39;00m tile_locs\u001b[38;5;241m.\u001b[39mitems():\n",
      "\u001b[0;31mAttributeError\u001b[0m: 'NoneType' object has no attribute 'sizes'"
     ]
    }
   ],
   "source": [
    "controller.get_result_view( TSet.Validation, fsize=8.0 )"
   ]
  },
  {
   "cell_type": "code",
   "execution_count": null,
   "id": "c6fa75772a811cfe",
   "metadata": {},
   "outputs": [],
   "source": []
  },
  {
   "cell_type": "markdown",
   "id": "7091a875a34975e4",
   "metadata": {},
   "source": []
  }
 ],
 "metadata": {
  "kernelspec": {
   "display_name": "Python [conda env:.conda-app-jupyter-ilab-dev-kernel]",
   "language": "python",
   "name": "conda-env-.conda-app-jupyter-ilab-dev-kernel-py"
  },
  "language_info": {
   "codemirror_mode": {
    "name": "ipython",
    "version": 3
   },
   "file_extension": ".py",
   "mimetype": "text/x-python",
   "name": "python",
   "nbconvert_exporter": "python",
   "pygments_lexer": "ipython3",
   "version": "3.11.9"
  }
 },
 "nbformat": 4,
 "nbformat_minor": 5
}
