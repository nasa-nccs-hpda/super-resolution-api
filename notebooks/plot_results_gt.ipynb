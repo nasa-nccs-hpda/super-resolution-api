{
 "cells": [
  {
   "cell_type": "code",
   "execution_count": 1,
   "id": "eb3354fa294bfe51",
   "metadata": {
    "tags": []
   },
   "outputs": [],
   "source": [
    "%matplotlib widget\n",
    "from typing import Any, Dict, List, Tuple, Type, Optional, Union\n",
    "from fmod.controller.workflow import WorkflowController\n",
    "from fmod.base.io.loader import ncFormat, TSet"
   ]
  },
  {
   "cell_type": "code",
   "execution_count": 2,
   "id": "e0fe5ee8cdf65d78",
   "metadata": {
    "jupyter": {
     "is_executing": true
    }
   },
   "outputs": [
    {
     "name": "stdout",
     "output_type": "stream",
     "text": [
      "load sres: config = {'task': 'swot-2.2v', 'dataset': 'swot_gt', 'platform': 'explore_gt', 'model': 'rcan-10-20-64', 'pipeline.gpu': 1}\n",
      "Activating sres: '/panfs/ccds02/nobackup/people/gtamkin/dev/super-resolution-fmod-overlay/notebooks/config/sres.yaml', gpu=1, keys = ['platform', 'task', 'model', 'dataset', 'pipeline']\n"
     ]
    },
    {
     "ename": "RuntimeError",
     "evalue": "CUDA error: invalid device ordinal\nCUDA kernel errors might be asynchronously reported at some other API call, so the stacktrace below might be incorrect.\nFor debugging consider passing CUDA_LAUNCH_BLOCKING=1\nCompile with `TORCH_USE_CUDA_DSA` to enable device-side assertions.\n",
     "output_type": "error",
     "traceback": [
      "\u001b[0;31m---------------------------------------------------------------------------\u001b[0m",
      "\u001b[0;31mRuntimeError\u001b[0m                              Traceback (most recent call last)",
      "Cell \u001b[0;32mIn[2], line 12\u001b[0m\n\u001b[1;32m      5\u001b[0m configuration \u001b[38;5;241m=\u001b[39m \u001b[38;5;28mdict\u001b[39m(\n\u001b[1;32m      6\u001b[0m \ttask \u001b[38;5;241m=\u001b[39m \u001b[38;5;124m\"\u001b[39m\u001b[38;5;124mswot-2.2v\u001b[39m\u001b[38;5;124m\"\u001b[39m,\n\u001b[1;32m      7\u001b[0m \tdataset \u001b[38;5;241m=\u001b[39m \u001b[38;5;124m\"\u001b[39m\u001b[38;5;124mswot_gt\u001b[39m\u001b[38;5;124m\"\u001b[39m,\n\u001b[1;32m      8\u001b[0m \tplatform \u001b[38;5;241m=\u001b[39m \u001b[38;5;124m\"\u001b[39m\u001b[38;5;124mexplore_gt\u001b[39m\u001b[38;5;124m\"\u001b[39m\n\u001b[1;32m      9\u001b[0m )\n\u001b[1;32m     11\u001b[0m controller \u001b[38;5;241m=\u001b[39m WorkflowController( cname, configuration )\n\u001b[0;32m---> 12\u001b[0m \u001b[43mcontroller\u001b[49m\u001b[38;5;241;43m.\u001b[39;49m\u001b[43minit_plotting\u001b[49m\u001b[43m(\u001b[49m\u001b[43m \u001b[49m\u001b[43mcname\u001b[49m\u001b[43m,\u001b[49m\u001b[43m \u001b[49m\u001b[43mmodel\u001b[49m\u001b[43m,\u001b[49m\u001b[43m \u001b[49m\u001b[38;5;241;43m*\u001b[39;49m\u001b[38;5;241;43m*\u001b[39;49m\u001b[43mccustom\u001b[49m\u001b[43m \u001b[49m\u001b[43m)\u001b[49m\n",
      "File \u001b[0;32m/panfs/ccds02/nobackup/people/gtamkin/dev/super-resolution-fmod-overlay/notebooks/fmod/controller/workflow.py:41\u001b[0m, in \u001b[0;36mWorkflowController.init_plotting\u001b[0;34m(self, cname, model, **kwargs)\u001b[0m\n\u001b[1;32m     39\u001b[0m \u001b[38;5;28mself\u001b[39m\u001b[38;5;241m.\u001b[39mmodel \u001b[38;5;241m=\u001b[39m model\n\u001b[1;32m     40\u001b[0m \u001b[38;5;28mself\u001b[39m\u001b[38;5;241m.\u001b[39mconfig \u001b[38;5;241m=\u001b[39m ConfigContext\u001b[38;5;241m.\u001b[39mactivate_global( cname, model\u001b[38;5;241m=\u001b[39mmodel, \u001b[38;5;241m*\u001b[39m\u001b[38;5;241m*\u001b[39mkwargs )\n\u001b[0;32m---> 41\u001b[0m \u001b[38;5;28mself\u001b[39m\u001b[38;5;241m.\u001b[39mtrainer \u001b[38;5;241m=\u001b[39m \u001b[43mModelTrainer\u001b[49m\u001b[43m(\u001b[49m\u001b[43m \u001b[49m\u001b[38;5;28;43mself\u001b[39;49m\u001b[38;5;241;43m.\u001b[39;49m\u001b[43mconfig\u001b[49m\u001b[43m \u001b[49m\u001b[43m)\u001b[49m\n",
      "File \u001b[0;32m/panfs/ccds02/nobackup/people/gtamkin/dev/super-resolution-fmod-overlay/notebooks/fmod/controller/dual_trainer.py:99\u001b[0m, in \u001b[0;36mModelTrainer.__init__\u001b[0;34m(self, cc)\u001b[0m\n\u001b[1;32m     97\u001b[0m \u001b[38;5;28;01mdef\u001b[39;00m \u001b[38;5;21m__init__\u001b[39m(\u001b[38;5;28mself\u001b[39m, cc: ConfigContext ):\n\u001b[1;32m     98\u001b[0m \t\u001b[38;5;28msuper\u001b[39m(ModelTrainer, \u001b[38;5;28mself\u001b[39m)\u001b[38;5;241m.\u001b[39m\u001b[38;5;21m__init__\u001b[39m()\n\u001b[0;32m---> 99\u001b[0m \t\u001b[38;5;28mself\u001b[39m\u001b[38;5;241m.\u001b[39mmodel_manager: SRModels \u001b[38;5;241m=\u001b[39m SRModels( \u001b[43mset_device\u001b[49m\u001b[43m(\u001b[49m\u001b[43m)\u001b[49m )\n\u001b[1;32m    100\u001b[0m \t\u001b[38;5;28mself\u001b[39m\u001b[38;5;241m.\u001b[39mcontext: ConfigContext \u001b[38;5;241m=\u001b[39m cc\n\u001b[1;32m    101\u001b[0m \t\u001b[38;5;28mself\u001b[39m\u001b[38;5;241m.\u001b[39mdevice: torch\u001b[38;5;241m.\u001b[39mdevice \u001b[38;5;241m=\u001b[39m \u001b[38;5;28mself\u001b[39m\u001b[38;5;241m.\u001b[39mmodel_manager\u001b[38;5;241m.\u001b[39mdevice\n",
      "File \u001b[0;32m/panfs/ccds02/nobackup/people/gtamkin/dev/super-resolution-fmod-overlay/notebooks/fmod/base/gpu.py:10\u001b[0m, in \u001b[0;36mset_device\u001b[0;34m()\u001b[0m\n\u001b[1;32m      8\u001b[0m device \u001b[38;5;241m=\u001b[39m torch\u001b[38;5;241m.\u001b[39mdevice(\u001b[38;5;124mf\u001b[39m\u001b[38;5;124m'\u001b[39m\u001b[38;5;124mcuda:\u001b[39m\u001b[38;5;132;01m{\u001b[39;00mgpu_index\u001b[38;5;132;01m}\u001b[39;00m\u001b[38;5;124m'\u001b[39m \u001b[38;5;28;01mif\u001b[39;00m cuda\u001b[38;5;241m.\u001b[39mis_available() \u001b[38;5;28;01melse\u001b[39;00m \u001b[38;5;124m'\u001b[39m\u001b[38;5;124mcpu\u001b[39m\u001b[38;5;124m'\u001b[39m)\n\u001b[1;32m      9\u001b[0m \u001b[38;5;28;01mif\u001b[39;00m cuda\u001b[38;5;241m.\u001b[39mis_available():\n\u001b[0;32m---> 10\u001b[0m \t\u001b[43mcuda\u001b[49m\u001b[38;5;241;43m.\u001b[39;49m\u001b[43mset_device\u001b[49m\u001b[43m(\u001b[49m\u001b[43mdevice\u001b[49m\u001b[38;5;241;43m.\u001b[39;49m\u001b[43mindex\u001b[49m\u001b[43m)\u001b[49m\n\u001b[1;32m     11\u001b[0m \t\u001b[38;5;28;01mif\u001b[39;00m cfg()\u001b[38;5;241m.\u001b[39mpipeline\u001b[38;5;241m.\u001b[39mmemory_debug:\n\u001b[1;32m     12\u001b[0m \t\tcuda\u001b[38;5;241m.\u001b[39mmemory\u001b[38;5;241m.\u001b[39m_record_memory_history()\n",
      "File \u001b[0;32m/panfs/ccds02/nobackup/people/sstrong/micromamba/envs/pytorch-dev-rapids-v23_10-v19/lib/python3.11/site-packages/torch/cuda/__init__.py:420\u001b[0m, in \u001b[0;36mset_device\u001b[0;34m(device)\u001b[0m\n\u001b[1;32m    418\u001b[0m device \u001b[38;5;241m=\u001b[39m _get_device_index(device)\n\u001b[1;32m    419\u001b[0m \u001b[38;5;28;01mif\u001b[39;00m device \u001b[38;5;241m>\u001b[39m\u001b[38;5;241m=\u001b[39m \u001b[38;5;241m0\u001b[39m:\n\u001b[0;32m--> 420\u001b[0m     \u001b[43mtorch\u001b[49m\u001b[38;5;241;43m.\u001b[39;49m\u001b[43m_C\u001b[49m\u001b[38;5;241;43m.\u001b[39;49m\u001b[43m_cuda_setDevice\u001b[49m\u001b[43m(\u001b[49m\u001b[43mdevice\u001b[49m\u001b[43m)\u001b[49m\n",
      "\u001b[0;31mRuntimeError\u001b[0m: CUDA error: invalid device ordinal\nCUDA kernel errors might be asynchronously reported at some other API call, so the stacktrace below might be incorrect.\nFor debugging consider passing CUDA_LAUNCH_BLOCKING=1\nCompile with `TORCH_USE_CUDA_DSA` to enable device-side assertions.\n"
     ]
    }
   ],
   "source": [
    "cname = \"sres\"\n",
    "model =  'rcan-10-20-64'\n",
    "ccustom: Dict[str,Any] = { 'pipeline.gpu': 1 }\n",
    "\n",
    "configuration = dict(\n",
    "\ttask = \"swot-2.2v\",\n",
    "\tdataset = \"swot_gt\",\n",
    "\tplatform = \"explore_gt\"\n",
    ")\n",
    "\n",
    "controller = WorkflowController( cname, configuration )\n",
    "controller.init_plotting( cname, model, **ccustom )"
   ]
  },
  {
   "cell_type": "code",
   "execution_count": null,
   "id": "a2d9b37022f7162",
   "metadata": {},
   "outputs": [],
   "source": [
    "controller.get_result_view( TSet.Validation, fsize=8.0 )"
   ]
  },
  {
   "cell_type": "code",
   "execution_count": null,
   "id": "c6fa75772a811cfe",
   "metadata": {},
   "outputs": [],
   "source": []
  },
  {
   "cell_type": "markdown",
   "id": "7091a875a34975e4",
   "metadata": {},
   "source": []
  }
 ],
 "metadata": {
  "kernelspec": {
   "display_name": "Python [conda env:.conda-app-jupyter-ilab-dev-kernel]",
   "language": "python",
   "name": "conda-env-.conda-app-jupyter-ilab-dev-kernel-py"
  },
  "language_info": {
   "codemirror_mode": {
    "name": "ipython",
    "version": 3
   },
   "file_extension": ".py",
   "mimetype": "text/x-python",
   "name": "python",
   "nbconvert_exporter": "python",
   "pygments_lexer": "ipython3",
   "version": "3.11.9"
  }
 },
 "nbformat": 4,
 "nbformat_minor": 5
}
