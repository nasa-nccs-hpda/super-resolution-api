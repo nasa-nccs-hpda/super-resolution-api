{
 "cells": [
  {
   "cell_type": "code",
   "execution_count": 1,
   "id": "45e79a6b-dd32-4e3b-bb91-90f37367cead",
   "metadata": {},
   "outputs": [
    {
     "name": "stdout",
     "output_type": "stream",
     "text": [
      "nvidia-cublas-cu12==12.1.3.1\n",
      "nvidia-cuda-cupti-cu12==12.1.105\n",
      "nvidia-cuda-nvrtc-cu12==12.1.105\n",
      "nvidia-cuda-runtime-cu12==12.1.105\n",
      "nvidia-cudnn-cu12==9.1.0.70\n",
      "nvidia-cufft-cu12==11.0.2.54\n",
      "nvidia-curand-cu12==10.3.2.106\n",
      "nvidia-cusolver-cu12==11.4.5.107\n",
      "nvidia-cusparse-cu12==12.1.0.106\n",
      "nvidia-dali-cuda100==0.27.0\n",
      "nvidia-dali-cuda110==1.39.0\n",
      "nvidia-dali-cuda120==1.38.0\n",
      "nvidia-modulus==0.6.0\n",
      "nvidia-nccl-cu12==2.20.5\n",
      "nvidia-nvimgcodec-cu11==0.2.0.7\n",
      "nvidia-nvimgcodec-cu12==0.2.0.7\n",
      "nvidia-nvjitlink-cu12==12.6.20\n",
      "nvidia-nvtx-cu12==12.1.105\n",
      "nvidia-pyindex==1.0.9\n"
     ]
    }
   ],
   "source": [
    "!pip freeze | grep nvid"
   ]
  },
  {
   "cell_type": "code",
   "execution_count": 2,
   "id": "11950ae0-3f0a-4697-8d26-a0d8d9cecb8e",
   "metadata": {},
   "outputs": [
    {
     "name": "stdout",
     "output_type": "stream",
     "text": [
      "modulus==0.0.10a0\n",
      "nvidia-modulus==0.6.0\n"
     ]
    }
   ],
   "source": [
    "!pip freeze | grep modulus"
   ]
  },
  {
   "cell_type": "code",
   "execution_count": 3,
   "id": "adf35c81-b21d-4674-9e97-7b198885be96",
   "metadata": {},
   "outputs": [],
   "source": [
    "#!pip install requests"
   ]
  },
  {
   "cell_type": "code",
   "execution_count": 4,
   "id": "6ae12162-4347-4a78-9315-f21d34014a9a",
   "metadata": {},
   "outputs": [],
   "source": [
    "import modulus"
   ]
  },
  {
   "cell_type": "code",
   "execution_count": 5,
   "id": "af3505f9-b907-4f67-9e87-d4989c3ea905",
   "metadata": {},
   "outputs": [],
   "source": [
    "#!pip install warp-lang"
   ]
  },
  {
   "cell_type": "code",
   "execution_count": 6,
   "id": "168a6512-67cf-4216-b833-ce17764535db",
   "metadata": {},
   "outputs": [
    {
     "name": "stdout",
     "output_type": "stream",
     "text": [
      "Warp 1.2.2 initialized:\n",
      "   CUDA Toolkit 11.8, Driver 12.5\n",
      "   Devices:\n",
      "     \"cpu\"      : \"x86_64\"\n",
      "     \"cuda:0\"   : \"Tesla V100-SXM2-32GB\" (32 GiB, sm_70, mempool enabled)\n",
      "   Kernel cache:\n",
      "     /home/gtamkin/.cache/warp/1.2.2\n"
     ]
    }
   ],
   "source": [
    "from modulus.datapipes.benchmarks.darcy import Darcy2D\n",
    "from modulus.metrics.general.mse import mse\n",
    "from modulus.models.fno.fno import FNO"
   ]
  },
  {
   "cell_type": "code",
   "execution_count": 8,
   "id": "8b5faf2f-a46d-4df2-bced-e8d5f8e83abc",
   "metadata": {},
   "outputs": [],
   "source": [
    "import torch"
   ]
  },
  {
   "cell_type": "code",
   "execution_count": 9,
   "id": "a23f2069-c8d2-4de5-a144-b9a735126c78",
   "metadata": {},
   "outputs": [
    {
     "name": "stdout",
     "output_type": "stream",
     "text": [
      "Module modulus.datapipes.benchmarks.kernels.initialization dd354b8 load on device 'cuda:0' took 34.49 ms\n",
      "Module modulus.datapipes.benchmarks.kernels.utils 68c2b86 load on device 'cuda:0' took 30.55 ms\n",
      "Module modulus.datapipes.benchmarks.kernels.finite_difference 3584cc4 load on device 'cuda:0' took 28.81 ms\n",
      "Iteration:0. Loss:0.9422825574874878\n",
      "Iteration:1. Loss:1.0521711111068726\n",
      "Iteration:2. Loss:0.9511062502861023\n",
      "Iteration:3. Loss:0.8808196783065796\n",
      "Iteration:4. Loss:0.7981544137001038\n",
      "Iteration:5. Loss:0.6704221367835999\n",
      "Iteration:6. Loss:0.4890911281108856\n",
      "Iteration:7. Loss:0.32805773615837097\n",
      "Iteration:8. Loss:0.4032154679298401\n",
      "Iteration:9. Loss:0.8170997500419617\n",
      "Iteration:10. Loss:0.862799882888794\n",
      "Iteration:11. Loss:0.6109097003936768\n",
      "Iteration:12. Loss:0.3110634386539459\n",
      "Iteration:13. Loss:0.1834431290626526\n",
      "Iteration:14. Loss:0.1307375431060791\n",
      "Iteration:15. Loss:0.1278097927570343\n",
      "Iteration:16. Loss:0.16044887900352478\n",
      "Iteration:17. Loss:0.21152685582637787\n",
      "Iteration:18. Loss:0.24351519346237183\n",
      "Iteration:19. Loss:0.28896987438201904\n"
     ]
    }
   ],
   "source": [
    "normaliser = {\n",
    "    \"permeability\": (1.25, 0.75),\n",
    "    \"darcy\": (4.52e-2, 2.79e-2),\n",
    "}\n",
    "dataloader = Darcy2D(\n",
    "    resolution=256, batch_size=64, nr_permeability_freq=5, normaliser=normaliser\n",
    ")\n",
    "model = FNO(\n",
    "    in_channels=1,\n",
    "    out_channels=1,\n",
    "    decoder_layers=1,\n",
    "    decoder_layer_size=32,\n",
    "    dimension=2,\n",
    "    latent_channels=32,\n",
    "    num_fno_layers=4,\n",
    "    num_fno_modes=12,\n",
    "    padding=5,\n",
    ").to(\"cuda\")\n",
    "\n",
    "optimizer = torch.optim.Adam(model.parameters(), lr=0.01)\n",
    "scheduler = torch.optim.lr_scheduler.LambdaLR(\n",
    "    optimizer, lr_lambda=lambda step: 0.85**step\n",
    ")\n",
    "\n",
    "# run for 20 iterations\n",
    "for i in range(20):\n",
    "    batch = next(iter(dataloader))\n",
    "    true = batch[\"darcy\"]\n",
    "    pred = model(batch[\"permeability\"])\n",
    "    loss = mse(pred, true)\n",
    "    loss.backward()\n",
    "    optimizer.step()\n",
    "    scheduler.step()\n",
    "\n",
    "    print(f\"Iteration:{i}. Loss:{loss.detach().cpu().numpy()}\")"
   ]
  },
  {
   "cell_type": "code",
   "execution_count": null,
   "id": "455c9d29-163e-470e-8e70-72baf0c83ccf",
   "metadata": {},
   "outputs": [],
   "source": []
  }
 ],
 "metadata": {
  "kernelspec": {
   "display_name": "Python [conda env:.conda-pytorch-dev-rapids-v23_10-v13]",
   "language": "python",
   "name": "conda-env-.conda-pytorch-dev-rapids-v23_10-v13-py"
  },
  "language_info": {
   "codemirror_mode": {
    "name": "ipython",
    "version": 3
   },
   "file_extension": ".py",
   "mimetype": "text/x-python",
   "name": "python",
   "nbconvert_exporter": "python",
   "pygments_lexer": "ipython3",
   "version": "3.11.9"
  }
 },
 "nbformat": 4,
 "nbformat_minor": 5
}
