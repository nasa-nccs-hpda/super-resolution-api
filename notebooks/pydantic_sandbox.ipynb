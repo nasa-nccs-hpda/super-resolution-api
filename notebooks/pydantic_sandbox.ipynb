{
 "cells": [
  {
   "cell_type": "code",
   "execution_count": 2,
   "id": "d972096d-cf06-40d3-918f-5583e45a2231",
   "metadata": {},
   "outputs": [
    {
     "name": "stdout",
     "output_type": "stream",
     "text": [
      "{'properties': {'id': {'title': 'Id', 'type': 'integer'}, 'name': {'default': 'John Doe', 'title': 'Name', 'type': 'string'}, 'friends': {'items': {'type': 'integer'}, 'title': 'Friends', 'type': 'array'}, 'datasets': {'items': {'type': 'string'}, 'title': 'Datasets', 'type': 'array'}, 'age': {'anyOf': [{'type': 'integer'}, {'type': 'null'}], 'default': None, 'description': 'do not lie!', 'title': 'The age of the user'}, 'height': {'anyOf': [{'maximum': 300, 'minimum': 50, 'type': 'integer'}, {'type': 'null'}], 'default': None, 'title': 'The height in cm'}}, 'required': ['id'], 'title': 'User', 'type': 'object'}\n"
     ]
    }
   ],
   "source": [
    "import dataclasses\n",
    "from typing import List, Optional\n",
    "\n",
    "from pydantic import Field, TypeAdapter,ValidationError\n",
    "from pydantic.dataclasses import dataclass\n",
    "\n",
    "\n",
    "@dataclass\n",
    "class User:\n",
    "    id: int\n",
    "    name: str = 'John Doe'\n",
    "    friends: List[int] = dataclasses.field(default_factory=lambda: [0])\n",
    "    datasets: List[str] = dataclasses.field(default_factory=lambda: ['swot'])\n",
    "    age: Optional[int] = dataclasses.field(\n",
    "        default=None,\n",
    "        metadata=dict(title='The age of the user', description='do not lie!'),\n",
    "    )\n",
    "    height: Optional[int] = Field(None, title='The height in cm', ge=50, le=300)\n",
    "\n",
    "print(TypeAdapter(User).json_schema())"
   ]
  },
  {
   "cell_type": "code",
   "execution_count": 3,
   "id": "e95bc4f5-36a2-4327-9e33-2f955902dace",
   "metadata": {},
   "outputs": [
    {
     "name": "stdout",
     "output_type": "stream",
     "text": [
      "User(id=42, name='John Doe', friends=[0], datasets=['swot'], age=None, height=None)\n"
     ]
    }
   ],
   "source": [
    "try:\n",
    "    user = User(id='42')\n",
    "    print(user)\n",
    "except pydantic.ValidationError as e:\n",
    "        print(e)"
   ]
  },
  {
   "cell_type": "code",
   "execution_count": 5,
   "id": "a9782de8-6705-4613-905d-965c869f471e",
   "metadata": {},
   "outputs": [
    {
     "name": "stdout",
     "output_type": "stream",
     "text": [
      "User(id=42, name='John Doe', friends=[0], datasets=['swit'], age=None, height=None)\n"
     ]
    }
   ],
   "source": [
    "try:\n",
    "    user = User(id='42',datasets=['swit'])\n",
    "    print(user)\n",
    "except pydantic.ValidationError as e:\n",
    "        print(e)"
   ]
  },
  {
   "cell_type": "code",
   "execution_count": 6,
   "id": "f23ef8f3-98a5-4c72-9b3f-04ef47bbdccd",
   "metadata": {},
   "outputs": [
    {
     "name": "stdout",
     "output_type": "stream",
     "text": [
      "1 validation error for User\n",
      "datasets\n",
      "  Input should be a valid list [type=list_type, input_value=99, input_type=int]\n",
      "    For further information visit https://errors.pydantic.dev/2.8/v/list_type\n"
     ]
    }
   ],
   "source": [
    "try:\n",
    "    user = User(id='42',datasets=99)\n",
    "    print(user)\n",
    "except ValidationError as e:\n",
    "        print(e)"
   ]
  },
  {
   "cell_type": "code",
   "execution_count": 7,
   "id": "b33db1b1-d98f-44b3-82c8-7c569ac16458",
   "metadata": {},
   "outputs": [
    {
     "name": "stdout",
     "output_type": "stream",
     "text": [
      "1 validation error for User\n",
      "height\n",
      "  Input should be less than or equal to 300 [type=less_than_equal, input_value=3054, input_type=int]\n",
      "    For further information visit https://errors.pydantic.dev/2.8/v/less_than_equal\n"
     ]
    }
   ],
   "source": [
    "try:\n",
    "    user = User(id='42', height=3054)\n",
    "    print(user)\n",
    "except ValidationError as e:\n",
    "        print(e)"
   ]
  },
  {
   "cell_type": "code",
   "execution_count": null,
   "id": "bec71a9f-1cd0-4093-8ec3-1dda0b6415a4",
   "metadata": {},
   "outputs": [],
   "source": []
  },
  {
   "cell_type": "code",
   "execution_count": 9,
   "id": "3dc71df6-0d5c-48ac-a6d5-6e5a66838245",
   "metadata": {},
   "outputs": [],
   "source": [
    "from datetime import date\n",
    "from uuid import UUID, uuid4\n",
    "from enum import Enum\n",
    "from pydantic import BaseModel\n",
    "\n",
    "class Department(Enum):\n",
    "    HR = \"HR\"\n",
    "    SALES = \"SALES\"\n",
    "    IT = \"IT\"\n",
    "    ENGINEERING = \"ENGINEERING\"\n",
    "\n",
    "class Employee(BaseModel):\n",
    "    employee_id: UUID = uuid4()\n",
    "    name: str\n",
    "    date_of_birth: date\n",
    "    salary: float\n",
    "    department: Department\n",
    "    elected_benefits: bool"
   ]
  },
  {
   "cell_type": "code",
   "execution_count": 13,
   "id": "aeb4b87e-9b80-4025-9bb4-ef8bed53c958",
   "metadata": {},
   "outputs": [
    {
     "ename": "ValidationError",
     "evalue": "1 validation error for Employee\ndepartment\n  Input should be 'HR', 'SALES', 'IT' or 'ENGINEERING' [type=enum, input_value='SHITIT', input_type=str]\n    For further information visit https://errors.pydantic.dev/2.8/v/enum",
     "output_type": "error",
     "traceback": [
      "\u001b[0;31m---------------------------------------------------------------------------\u001b[0m",
      "\u001b[0;31mValidationError\u001b[0m                           Traceback (most recent call last)",
      "Cell \u001b[0;32mIn[13], line 1\u001b[0m\n\u001b[0;32m----> 1\u001b[0m \u001b[43mEmployee\u001b[49m\u001b[43m(\u001b[49m\n\u001b[1;32m      2\u001b[0m \u001b[43m    \u001b[49m\u001b[43mname\u001b[49m\u001b[38;5;241;43m=\u001b[39;49m\u001b[38;5;124;43m\"\u001b[39;49m\u001b[38;5;124;43mChris DeTuma\u001b[39;49m\u001b[38;5;124;43m\"\u001b[39;49m\u001b[43m,\u001b[49m\n\u001b[1;32m      3\u001b[0m \u001b[43m    \u001b[49m\u001b[43memail\u001b[49m\u001b[38;5;241;43m=\u001b[39;49m\u001b[38;5;124;43m\"\u001b[39;49m\u001b[38;5;124;43mcdetuma@example.com\u001b[39;49m\u001b[38;5;124;43m\"\u001b[39;49m\u001b[43m,\u001b[49m\n\u001b[1;32m      4\u001b[0m \u001b[43m    \u001b[49m\u001b[43mdate_of_birth\u001b[49m\u001b[38;5;241;43m=\u001b[39;49m\u001b[38;5;124;43m\"\u001b[39;49m\u001b[38;5;124;43m1998-04-02\u001b[39;49m\u001b[38;5;124;43m\"\u001b[39;49m\u001b[43m,\u001b[49m\n\u001b[1;32m      5\u001b[0m \u001b[43m    \u001b[49m\u001b[43msalary\u001b[49m\u001b[38;5;241;43m=\u001b[39;49m\u001b[38;5;241;43m123_000.00\u001b[39;49m\u001b[43m,\u001b[49m\n\u001b[1;32m      6\u001b[0m \u001b[43m    \u001b[49m\u001b[43mdepartment\u001b[49m\u001b[38;5;241;43m=\u001b[39;49m\u001b[38;5;124;43m\"\u001b[39;49m\u001b[38;5;124;43mSHITIT\u001b[39;49m\u001b[38;5;124;43m\"\u001b[39;49m\u001b[43m,\u001b[49m\n\u001b[1;32m      7\u001b[0m \u001b[43m    \u001b[49m\u001b[43melected_benefits\u001b[49m\u001b[38;5;241;43m=\u001b[39;49m\u001b[38;5;28;43;01mTrue\u001b[39;49;00m\u001b[43m,\u001b[49m\n\u001b[1;32m      8\u001b[0m \u001b[43m)\u001b[49m\n",
      "File \u001b[0;32m/panfs/ccds02/nobackup/people/sstrong/micromamba/envs/pytorch-dev-rapids-v23_10-v19/lib/python3.11/site-packages/pydantic/main.py:193\u001b[0m, in \u001b[0;36mBaseModel.__init__\u001b[0;34m(self, **data)\u001b[0m\n\u001b[1;32m    191\u001b[0m \u001b[38;5;66;03m# `__tracebackhide__` tells pytest and some other tools to omit this function from tracebacks\u001b[39;00m\n\u001b[1;32m    192\u001b[0m __tracebackhide__ \u001b[38;5;241m=\u001b[39m \u001b[38;5;28;01mTrue\u001b[39;00m\n\u001b[0;32m--> 193\u001b[0m \u001b[38;5;28;43mself\u001b[39;49m\u001b[38;5;241;43m.\u001b[39;49m\u001b[43m__pydantic_validator__\u001b[49m\u001b[38;5;241;43m.\u001b[39;49m\u001b[43mvalidate_python\u001b[49m\u001b[43m(\u001b[49m\u001b[43mdata\u001b[49m\u001b[43m,\u001b[49m\u001b[43m \u001b[49m\u001b[43mself_instance\u001b[49m\u001b[38;5;241;43m=\u001b[39;49m\u001b[38;5;28;43mself\u001b[39;49m\u001b[43m)\u001b[49m\n",
      "\u001b[0;31mValidationError\u001b[0m: 1 validation error for Employee\ndepartment\n  Input should be 'HR', 'SALES', 'IT' or 'ENGINEERING' [type=enum, input_value='SHITIT', input_type=str]\n    For further information visit https://errors.pydantic.dev/2.8/v/enum"
     ]
    }
   ],
   "source": [
    "Employee(\n",
    "...     name=\"Chris DeTuma\",\n",
    "...     email=\"cdetuma@example.com\",\n",
    "...     date_of_birth=\"1998-04-02\",\n",
    "...     salary=123_000.00,\n",
    "...     department=\"SHITIT\",\n",
    "...     elected_benefits=True,\n",
    ")"
   ]
  },
  {
   "cell_type": "code",
   "execution_count": null,
   "id": "872653aa-ed49-4eac-ae52-7ca915ea1921",
   "metadata": {},
   "outputs": [],
   "source": []
  }
 ],
 "metadata": {
  "kernelspec": {
   "display_name": "Python [conda env:.conda-app-jupyter-ilab-dev-kernel]",
   "language": "python",
   "name": "conda-env-.conda-app-jupyter-ilab-dev-kernel-py"
  },
  "language_info": {
   "codemirror_mode": {
    "name": "ipython",
    "version": 3
   },
   "file_extension": ".py",
   "mimetype": "text/x-python",
   "name": "python",
   "nbconvert_exporter": "python",
   "pygments_lexer": "ipython3",
   "version": "3.11.9"
  }
 },
 "nbformat": 4,
 "nbformat_minor": 5
}
