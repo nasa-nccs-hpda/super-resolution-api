{
 "cells": [
  {
   "cell_type": "code",
   "execution_count": 2,
   "id": "09d16ed0-0827-4bca-8663-5bb1f8b740ce",
   "metadata": {},
   "outputs": [],
   "source": [
    "# Copyright (c) Facebook, Inc. and its affiliates. All Rights Reserved\n",
    "from omegaconf import DictConfig, OmegaConf\n",
    "\n",
    "import hydra\n",
    "\n",
    "\n",
    "# @hydra.main(version_base=None, config_path=\"conf\", config_name=\"config\")\n",
    "# def my_app(cfg: DictConfig) -> None:\n",
    "#     print(OmegaConf.to_yaml(cfg))\n",
    "\n",
    "\n",
    "# if __name__ == \"__main__\":\n",
    "#     my_app()"
   ]
  },
  {
   "cell_type": "code",
   "execution_count": 3,
   "id": "da9662f8-bfae-440a-ab38-c8a698e51d84",
   "metadata": {},
   "outputs": [],
   "source": [
    "@hydra.main(version_base=None, config_path=\"conf\", config_name=\"config\")\n",
    "def my_app(cfg: DictConfig) -> None:\n",
    "    print(OmegaConf.to_yaml(cfg))\n"
   ]
  },
  {
   "cell_type": "code",
   "execution_count": 5,
   "id": "46ae7201-1acd-4f51-9b48-4cf2f37bcad3",
   "metadata": {},
   "outputs": [
    {
     "ename": "TypeError",
     "evalue": "my_app() got an unexpected keyword argument 'config_path'",
     "output_type": "error",
     "traceback": [
      "\u001b[0;31m---------------------------------------------------------------------------\u001b[0m",
      "\u001b[0;31mTypeError\u001b[0m                                 Traceback (most recent call last)",
      "Cell \u001b[0;32mIn[5], line 1\u001b[0m\n\u001b[0;32m----> 1\u001b[0m \u001b[43mmy_app\u001b[49m\u001b[43m(\u001b[49m\u001b[43mconfig_path\u001b[49m\u001b[38;5;241;43m=\u001b[39;49m\u001b[38;5;124;43m\"\u001b[39;49m\u001b[38;5;124;43mconf\u001b[39;49m\u001b[38;5;124;43m\"\u001b[39;49m\u001b[43m,\u001b[49m\u001b[43m \u001b[49m\u001b[43mconfig_name\u001b[49m\u001b[38;5;241;43m=\u001b[39;49m\u001b[38;5;124;43m\"\u001b[39;49m\u001b[38;5;124;43mconfig\u001b[39;49m\u001b[38;5;124;43m\"\u001b[39;49m\u001b[43m)\u001b[49m\n",
      "\u001b[0;31mTypeError\u001b[0m: my_app() got an unexpected keyword argument 'config_path'"
     ]
    }
   ],
   "source": [
    "my_app(config_path=\"conf\", config_name=\"config\")"
   ]
  },
  {
   "cell_type": "code",
   "execution_count": null,
   "id": "3d7e03cd-8fcb-4cc8-af83-3f90c0db1893",
   "metadata": {},
   "outputs": [],
   "source": []
  }
 ],
 "metadata": {
  "kernelspec": {
   "display_name": "Python [conda env:.conda-DEV_kernel]",
   "language": "python",
   "name": "conda-env-.conda-DEV_kernel-py"
  },
  "language_info": {
   "codemirror_mode": {
    "name": "ipython",
    "version": 3
   },
   "file_extension": ".py",
   "mimetype": "text/x-python",
   "name": "python",
   "nbconvert_exporter": "python",
   "pygments_lexer": "ipython3",
   "version": "3.11.9"
  }
 },
 "nbformat": 4,
 "nbformat_minor": 5
}
